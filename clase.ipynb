{
 "cells": [
  {
   "cell_type": "code",
   "execution_count": 675,
   "metadata": {},
   "outputs": [],
   "source": [
    "import pandas as pd\n",
    "import numpy as np"
   ]
  },
  {
   "cell_type": "code",
   "execution_count": 676,
   "metadata": {},
   "outputs": [],
   "source": [
    "x = 2.6 + 7 * np.random.randn(20000)"
   ]
  },
  {
   "cell_type": "code",
   "execution_count": 677,
   "metadata": {},
   "outputs": [],
   "source": [
    "res = 0 + 0.9 * np.random.randn(20000)"
   ]
  },
  {
   "cell_type": "code",
   "execution_count": 678,
   "metadata": {},
   "outputs": [],
   "source": [
    "y_pred = 5 + 0.3 * x"
   ]
  },
  {
   "cell_type": "code",
   "execution_count": 679,
   "metadata": {},
   "outputs": [],
   "source": [
    "y_act = 5 + 0.3 * x + res"
   ]
  },
  {
   "cell_type": "code",
   "execution_count": 680,
   "metadata": {},
   "outputs": [],
   "source": [
    "x_list = x.tolist()\n",
    "y_pred_list = y_pred.tolist()\n",
    "y_act_list = y_act.tolist()"
   ]
  },
  {
   "cell_type": "code",
   "execution_count": 681,
   "metadata": {},
   "outputs": [],
   "source": [
    "data = pd.DataFrame(\n",
    "    {\n",
    "        \"x\":x_list,\n",
    "        \"y_actual\":y_act_list,\n",
    "        \"y_prediccion\":y_pred_list\n",
    "    }\n",
    ")"
   ]
  },
  {
   "cell_type": "code",
   "execution_count": 682,
   "metadata": {},
   "outputs": [
    {
     "data": {
      "text/html": [
       "<div>\n",
       "<style scoped>\n",
       "    .dataframe tbody tr th:only-of-type {\n",
       "        vertical-align: middle;\n",
       "    }\n",
       "\n",
       "    .dataframe tbody tr th {\n",
       "        vertical-align: top;\n",
       "    }\n",
       "\n",
       "    .dataframe thead th {\n",
       "        text-align: right;\n",
       "    }\n",
       "</style>\n",
       "<table border=\"1\" class=\"dataframe\">\n",
       "  <thead>\n",
       "    <tr style=\"text-align: right;\">\n",
       "      <th></th>\n",
       "      <th>x</th>\n",
       "      <th>y_actual</th>\n",
       "      <th>y_prediccion</th>\n",
       "    </tr>\n",
       "  </thead>\n",
       "  <tbody>\n",
       "    <tr>\n",
       "      <th>0</th>\n",
       "      <td>7.336622</td>\n",
       "      <td>7.867227</td>\n",
       "      <td>7.200986</td>\n",
       "    </tr>\n",
       "    <tr>\n",
       "      <th>1</th>\n",
       "      <td>2.680493</td>\n",
       "      <td>5.455754</td>\n",
       "      <td>5.804148</td>\n",
       "    </tr>\n",
       "    <tr>\n",
       "      <th>2</th>\n",
       "      <td>-2.743710</td>\n",
       "      <td>5.369774</td>\n",
       "      <td>4.176887</td>\n",
       "    </tr>\n",
       "    <tr>\n",
       "      <th>3</th>\n",
       "      <td>7.967393</td>\n",
       "      <td>7.894700</td>\n",
       "      <td>7.390218</td>\n",
       "    </tr>\n",
       "    <tr>\n",
       "      <th>4</th>\n",
       "      <td>11.851485</td>\n",
       "      <td>8.176712</td>\n",
       "      <td>8.555446</td>\n",
       "    </tr>\n",
       "  </tbody>\n",
       "</table>\n",
       "</div>"
      ],
      "text/plain": [
       "           x  y_actual  y_prediccion\n",
       "0   7.336622  7.867227      7.200986\n",
       "1   2.680493  5.455754      5.804148\n",
       "2  -2.743710  5.369774      4.176887\n",
       "3   7.967393  7.894700      7.390218\n",
       "4  11.851485  8.176712      8.555446"
      ]
     },
     "execution_count": 682,
     "metadata": {},
     "output_type": "execute_result"
    }
   ],
   "source": [
    "data.head()"
   ]
  },
  {
   "cell_type": "code",
   "execution_count": 683,
   "metadata": {},
   "outputs": [
    {
     "data": {
      "text/html": [
       "<div>\n",
       "<style scoped>\n",
       "    .dataframe tbody tr th:only-of-type {\n",
       "        vertical-align: middle;\n",
       "    }\n",
       "\n",
       "    .dataframe tbody tr th {\n",
       "        vertical-align: top;\n",
       "    }\n",
       "\n",
       "    .dataframe thead th {\n",
       "        text-align: right;\n",
       "    }\n",
       "</style>\n",
       "<table border=\"1\" class=\"dataframe\">\n",
       "  <thead>\n",
       "    <tr style=\"text-align: right;\">\n",
       "      <th></th>\n",
       "      <th>x</th>\n",
       "      <th>y_actual</th>\n",
       "      <th>y_prediccion</th>\n",
       "    </tr>\n",
       "  </thead>\n",
       "  <tbody>\n",
       "    <tr>\n",
       "      <th>x</th>\n",
       "      <td>1.000000</td>\n",
       "      <td>0.919765</td>\n",
       "      <td>1.000000</td>\n",
       "    </tr>\n",
       "    <tr>\n",
       "      <th>y_actual</th>\n",
       "      <td>0.919765</td>\n",
       "      <td>1.000000</td>\n",
       "      <td>0.919765</td>\n",
       "    </tr>\n",
       "    <tr>\n",
       "      <th>y_prediccion</th>\n",
       "      <td>1.000000</td>\n",
       "      <td>0.919765</td>\n",
       "      <td>1.000000</td>\n",
       "    </tr>\n",
       "  </tbody>\n",
       "</table>\n",
       "</div>"
      ],
      "text/plain": [
       "                     x  y_actual  y_prediccion\n",
       "x             1.000000  0.919765      1.000000\n",
       "y_actual      0.919765  1.000000      0.919765\n",
       "y_prediccion  1.000000  0.919765      1.000000"
      ]
     },
     "execution_count": 683,
     "metadata": {},
     "output_type": "execute_result"
    }
   ],
   "source": [
    "data.corr()"
   ]
  },
  {
   "cell_type": "code",
   "execution_count": 684,
   "metadata": {},
   "outputs": [],
   "source": [
    "import matplotlib.pyplot as plt"
   ]
  },
  {
   "cell_type": "code",
   "execution_count": 685,
   "metadata": {},
   "outputs": [],
   "source": [
    "y_mean = [np.mean(y_act) for i in range(1, len(x_list) + 1)]"
   ]
  },
  {
   "cell_type": "code",
   "execution_count": 691,
   "metadata": {
    "scrolled": true
   },
   "outputs": [
    {
     "data": {
      "text/plain": [
       "Text(0.5, 1.0, 'Valor Actual vs Predicción')"
      ]
     },
     "execution_count": 691,
     "metadata": {},
     "output_type": "execute_result"
    },
    {
     "data": {
      "image/png": "[encoded data removed]",
      "text/plain": [
       "<Figure size 432x288 with 1 Axes>"
      ]
     },
     "metadata": {
      "needs_background": "light"
     },
     "output_type": "display_data"
    }
   ],
   "source": [
    "%matplotlib inline\n",
    "plt.plot(data[\"x\"],data[\"y_prediccion\"])\n",
    "plt.plot(data[\"x\"], data[\"y_actual\"], \"ro\")\n",
    "plt.plot(data[\"x\"],y_mean, \"g\")\n",
    "plt.title(\"Valor Actual vs Predicción\")"
   ]
  },
  {
   "cell_type": "code",
   "execution_count": 692,
   "metadata": {},
   "outputs": [],
   "source": [
    "y_m = np.mean(y_act)\n",
    "data[\"SSR\"]=(data[\"y_prediccion\"]-y_m)**2\n",
    "data[\"SSD\"]=(data[\"y_prediccion\"]-data[\"y_actual\"])**2\n",
    "data[\"SST\"]=(data[\"y_actual\"]-y_m)**2"
   ]
  },
  {
   "cell_type": "code",
   "execution_count": 693,
   "metadata": {},
   "outputs": [
    {
     "data": {
      "text/html": [
       "<div>\n",
       "<style scoped>\n",
       "    .dataframe tbody tr th:only-of-type {\n",
       "        vertical-align: middle;\n",
       "    }\n",
       "\n",
       "    .dataframe tbody tr th {\n",
       "        vertical-align: top;\n",
       "    }\n",
       "\n",
       "    .dataframe thead th {\n",
       "        text-align: right;\n",
       "    }\n",
       "</style>\n",
       "<table border=\"1\" class=\"dataframe\">\n",
       "  <thead>\n",
       "    <tr style=\"text-align: right;\">\n",
       "      <th></th>\n",
       "      <th>x</th>\n",
       "      <th>y_actual</th>\n",
       "      <th>y_prediccion</th>\n",
       "      <th>SSR</th>\n",
       "      <th>SSD</th>\n",
       "      <th>SST</th>\n",
       "    </tr>\n",
       "  </thead>\n",
       "  <tbody>\n",
       "    <tr>\n",
       "      <th>0</th>\n",
       "      <td>7.336622</td>\n",
       "      <td>7.867227</td>\n",
       "      <td>7.200986</td>\n",
       "      <td>2.042841</td>\n",
       "      <td>0.443877</td>\n",
       "      <td>4.391207</td>\n",
       "    </tr>\n",
       "    <tr>\n",
       "      <th>1</th>\n",
       "      <td>2.680493</td>\n",
       "      <td>5.455754</td>\n",
       "      <td>5.804148</td>\n",
       "      <td>0.001052</td>\n",
       "      <td>0.121379</td>\n",
       "      <td>0.099826</td>\n",
       "    </tr>\n",
       "    <tr>\n",
       "      <th>2</th>\n",
       "      <td>-2.743710</td>\n",
       "      <td>5.369774</td>\n",
       "      <td>4.176887</td>\n",
       "      <td>2.543449</td>\n",
       "      <td>1.422980</td>\n",
       "      <td>0.161550</td>\n",
       "    </tr>\n",
       "    <tr>\n",
       "      <th>3</th>\n",
       "      <td>7.967393</td>\n",
       "      <td>7.894700</td>\n",
       "      <td>7.390218</td>\n",
       "      <td>2.619579</td>\n",
       "      <td>0.254502</td>\n",
       "      <td>4.507101</td>\n",
       "    </tr>\n",
       "    <tr>\n",
       "      <th>4</th>\n",
       "      <td>11.851485</td>\n",
       "      <td>8.176712</td>\n",
       "      <td>8.555446</td>\n",
       "      <td>7.749204</td>\n",
       "      <td>0.143439</td>\n",
       "      <td>5.784051</td>\n",
       "    </tr>\n",
       "  </tbody>\n",
       "</table>\n",
       "</div>"
      ],
      "text/plain": [
       "           x  y_actual  y_prediccion       SSR       SSD       SST\n",
       "0   7.336622  7.867227      7.200986  2.042841  0.443877  4.391207\n",
       "1   2.680493  5.455754      5.804148  0.001052  0.121379  0.099826\n",
       "2  -2.743710  5.369774      4.176887  2.543449  1.422980  0.161550\n",
       "3   7.967393  7.894700      7.390218  2.619579  0.254502  4.507101\n",
       "4  11.851485  8.176712      8.555446  7.749204  0.143439  5.784051"
      ]
     },
     "execution_count": 693,
     "metadata": {},
     "output_type": "execute_result"
    }
   ],
   "source": [
    "data.head()"
   ]
  },
  {
   "cell_type": "code",
   "execution_count": 694,
   "metadata": {},
   "outputs": [],
   "source": [
    "SSR = sum(data[\"SSR\"])\n",
    "SSD = sum(data[\"SSD\"])\n",
    "SST = sum(data[\"SST\"])"
   ]
  },
  {
   "cell_type": "code",
   "execution_count": 695,
   "metadata": {},
   "outputs": [
    {
     "data": {
      "text/plain": [
       "89673.94572791812"
      ]
     },
     "execution_count": 695,
     "metadata": {},
     "output_type": "execute_result"
    }
   ],
   "source": [
    "SSR"
   ]
  },
  {
   "cell_type": "code",
   "execution_count": 696,
   "metadata": {},
   "outputs": [
    {
     "data": {
      "text/plain": [
       "16196.731047858026"
      ]
     },
     "execution_count": 696,
     "metadata": {},
     "output_type": "execute_result"
    }
   ],
   "source": [
    "SSD"
   ]
  },
  {
   "cell_type": "code",
   "execution_count": 697,
   "metadata": {},
   "outputs": [
    {
     "data": {
      "text/plain": [
       "105141.88671259976"
      ]
     },
     "execution_count": 697,
     "metadata": {},
     "output_type": "execute_result"
    }
   ],
   "source": [
    "SST"
   ]
  },
  {
   "cell_type": "code",
   "execution_count": 698,
   "metadata": {},
   "outputs": [],
   "source": [
    "R2=(SSR/SST)*100"
   ]
  },
  {
   "cell_type": "code",
   "execution_count": 699,
   "metadata": {},
   "outputs": [
    {
     "data": {
      "text/plain": [
       "85.28850730350455"
      ]
     },
     "execution_count": 699,
     "metadata": {},
     "output_type": "execute_result"
    }
   ],
   "source": [
    "R2"
   ]
  },
  {
   "cell_type": "code",
   "execution_count": 700,
   "metadata": {},
   "outputs": [
    {
     "data": {
      "text/plain": [
       "(2.578213672018124, 5.771706505084125)"
      ]
     },
     "execution_count": 700,
     "metadata": {},
     "output_type": "execute_result"
    }
   ],
   "source": [
    "x_mean = np.mean(data[\"x\"])\n",
    "y_mean = np.mean(data[\"y_actual\"])\n",
    "x_mean, y_mean"
   ]
  },
  {
   "cell_type": "code",
   "execution_count": 701,
   "metadata": {},
   "outputs": [],
   "source": [
    "data[\"beta_n\"] = (data[\"x\"]-x_mean)*(data[\"y_actual\"]-y_mean)\n",
    "data[\"beta_d\"] = (data[\"x\"]-x_mean)**2"
   ]
  },
  {
   "cell_type": "code",
   "execution_count": 702,
   "metadata": {},
   "outputs": [],
   "source": [
    "beta = sum(data[\"beta_n\"])/sum(data[\"beta_d\"])"
   ]
  },
  {
   "cell_type": "code",
   "execution_count": 703,
   "metadata": {},
   "outputs": [],
   "source": [
    "alpha = y_mean - beta * x_mean"
   ]
  },
  {
   "cell_type": "code",
   "execution_count": 704,
   "metadata": {},
   "outputs": [
    {
     "data": {
      "text/plain": [
       "(5.001384886847047, 0.2987811392816406)"
      ]
     },
     "execution_count": 704,
     "metadata": {},
     "output_type": "execute_result"
    }
   ],
   "source": [
    "alpha, beta"
   ]
  },
  {
   "cell_type": "code",
   "execution_count": 705,
   "metadata": {},
   "outputs": [],
   "source": [
    "data[\"y_model\"] = alpha + beta * data[\"x\"]"
   ]
  },
  {
   "cell_type": "code",
   "execution_count": 706,
   "metadata": {},
   "outputs": [
    {
     "data": {
      "text/html": [
       "<div>\n",
       "<style scoped>\n",
       "    .dataframe tbody tr th:only-of-type {\n",
       "        vertical-align: middle;\n",
       "    }\n",
       "\n",
       "    .dataframe tbody tr th {\n",
       "        vertical-align: top;\n",
       "    }\n",
       "\n",
       "    .dataframe thead th {\n",
       "        text-align: right;\n",
       "    }\n",
       "</style>\n",
       "<table border=\"1\" class=\"dataframe\">\n",
       "  <thead>\n",
       "    <tr style=\"text-align: right;\">\n",
       "      <th></th>\n",
       "      <th>x</th>\n",
       "      <th>y_actual</th>\n",
       "      <th>y_prediccion</th>\n",
       "      <th>SSR</th>\n",
       "      <th>SSD</th>\n",
       "      <th>SST</th>\n",
       "      <th>beta_n</th>\n",
       "      <th>beta_d</th>\n",
       "      <th>y_model</th>\n",
       "    </tr>\n",
       "  </thead>\n",
       "  <tbody>\n",
       "    <tr>\n",
       "      <th>0</th>\n",
       "      <td>7.336622</td>\n",
       "      <td>7.867227</td>\n",
       "      <td>7.200986</td>\n",
       "      <td>2.042841</td>\n",
       "      <td>0.443877</td>\n",
       "      <td>4.391207</td>\n",
       "      <td>9.971342</td>\n",
       "      <td>22.642446</td>\n",
       "      <td>7.193429</td>\n",
       "    </tr>\n",
       "    <tr>\n",
       "      <th>1</th>\n",
       "      <td>2.680493</td>\n",
       "      <td>5.455754</td>\n",
       "      <td>5.804148</td>\n",
       "      <td>0.001052</td>\n",
       "      <td>0.121379</td>\n",
       "      <td>0.099826</td>\n",
       "      <td>-0.032315</td>\n",
       "      <td>0.010461</td>\n",
       "      <td>5.802266</td>\n",
       "    </tr>\n",
       "    <tr>\n",
       "      <th>2</th>\n",
       "      <td>-2.743710</td>\n",
       "      <td>5.369774</td>\n",
       "      <td>4.176887</td>\n",
       "      <td>2.543449</td>\n",
       "      <td>1.422980</td>\n",
       "      <td>0.161550</td>\n",
       "      <td>2.139053</td>\n",
       "      <td>28.322872</td>\n",
       "      <td>4.181616</td>\n",
       "    </tr>\n",
       "    <tr>\n",
       "      <th>3</th>\n",
       "      <td>7.967393</td>\n",
       "      <td>7.894700</td>\n",
       "      <td>7.390218</td>\n",
       "      <td>2.619579</td>\n",
       "      <td>0.254502</td>\n",
       "      <td>4.507101</td>\n",
       "      <td>11.441192</td>\n",
       "      <td>29.043252</td>\n",
       "      <td>7.381892</td>\n",
       "    </tr>\n",
       "    <tr>\n",
       "      <th>4</th>\n",
       "      <td>11.851485</td>\n",
       "      <td>8.176712</td>\n",
       "      <td>8.555446</td>\n",
       "      <td>7.749204</td>\n",
       "      <td>0.143439</td>\n",
       "      <td>5.784051</td>\n",
       "      <td>22.302268</td>\n",
       "      <td>85.993569</td>\n",
       "      <td>8.542385</td>\n",
       "    </tr>\n",
       "  </tbody>\n",
       "</table>\n",
       "</div>"
      ],
      "text/plain": [
       "           x  y_actual  y_prediccion       SSR       SSD       SST     beta_n  \\\n",
       "0   7.336622  7.867227      7.200986  2.042841  0.443877  4.391207   9.971342   \n",
       "1   2.680493  5.455754      5.804148  0.001052  0.121379  0.099826  -0.032315   \n",
       "2  -2.743710  5.369774      4.176887  2.543449  1.422980  0.161550   2.139053   \n",
       "3   7.967393  7.894700      7.390218  2.619579  0.254502  4.507101  11.441192   \n",
       "4  11.851485  8.176712      8.555446  7.749204  0.143439  5.784051  22.302268   \n",
       "\n",
       "      beta_d   y_model  \n",
       "0  22.642446  7.193429  \n",
       "1   0.010461  5.802266  \n",
       "2  28.322872  4.181616  \n",
       "3  29.043252  7.381892  \n",
       "4  85.993569  8.542385  "
      ]
     },
     "execution_count": 706,
     "metadata": {},
     "output_type": "execute_result"
    }
   ],
   "source": [
    "data.head()"
   ]
  },
  {
   "cell_type": "code",
   "execution_count": 707,
   "metadata": {},
   "outputs": [
    {
     "data": {
      "text/html": [
       "<div>\n",
       "<style scoped>\n",
       "    .dataframe tbody tr th:only-of-type {\n",
       "        vertical-align: middle;\n",
       "    }\n",
       "\n",
       "    .dataframe tbody tr th {\n",
       "        vertical-align: top;\n",
       "    }\n",
       "\n",
       "    .dataframe thead th {\n",
       "        text-align: right;\n",
       "    }\n",
       "</style>\n",
       "<table border=\"1\" class=\"dataframe\">\n",
       "  <thead>\n",
       "    <tr style=\"text-align: right;\">\n",
       "      <th></th>\n",
       "      <th>x</th>\n",
       "      <th>y_actual</th>\n",
       "      <th>y_prediccion</th>\n",
       "      <th>SSR</th>\n",
       "      <th>SSD</th>\n",
       "      <th>SST</th>\n",
       "      <th>beta_n</th>\n",
       "      <th>beta_d</th>\n",
       "      <th>y_model</th>\n",
       "    </tr>\n",
       "  </thead>\n",
       "  <tbody>\n",
       "    <tr>\n",
       "      <th>x</th>\n",
       "      <td>1.000000</td>\n",
       "      <td>0.919765</td>\n",
       "      <td>1.000000</td>\n",
       "      <td>-0.002775</td>\n",
       "      <td>-0.001574</td>\n",
       "      <td>-0.004024</td>\n",
       "      <td>-0.004022</td>\n",
       "      <td>-0.003938</td>\n",
       "      <td>1.000000</td>\n",
       "    </tr>\n",
       "    <tr>\n",
       "      <th>y_actual</th>\n",
       "      <td>0.919765</td>\n",
       "      <td>1.000000</td>\n",
       "      <td>0.919765</td>\n",
       "      <td>-0.002795</td>\n",
       "      <td>-0.002322</td>\n",
       "      <td>-0.004332</td>\n",
       "      <td>-0.004189</td>\n",
       "      <td>-0.003866</td>\n",
       "      <td>0.919765</td>\n",
       "    </tr>\n",
       "    <tr>\n",
       "      <th>y_prediccion</th>\n",
       "      <td>1.000000</td>\n",
       "      <td>0.919765</td>\n",
       "      <td>1.000000</td>\n",
       "      <td>-0.002775</td>\n",
       "      <td>-0.001574</td>\n",
       "      <td>-0.004024</td>\n",
       "      <td>-0.004022</td>\n",
       "      <td>-0.003938</td>\n",
       "      <td>1.000000</td>\n",
       "    </tr>\n",
       "    <tr>\n",
       "      <th>SSR</th>\n",
       "      <td>-0.002775</td>\n",
       "      <td>-0.002795</td>\n",
       "      <td>-0.002775</td>\n",
       "      <td>1.000000</td>\n",
       "      <td>0.001489</td>\n",
       "      <td>0.847511</td>\n",
       "      <td>0.958044</td>\n",
       "      <td>0.999999</td>\n",
       "      <td>-0.002775</td>\n",
       "    </tr>\n",
       "    <tr>\n",
       "      <th>SSD</th>\n",
       "      <td>-0.001574</td>\n",
       "      <td>-0.002322</td>\n",
       "      <td>-0.001574</td>\n",
       "      <td>0.001489</td>\n",
       "      <td>1.000000</td>\n",
       "      <td>0.153605</td>\n",
       "      <td>0.000871</td>\n",
       "      <td>0.001490</td>\n",
       "      <td>-0.001574</td>\n",
       "    </tr>\n",
       "    <tr>\n",
       "      <th>SST</th>\n",
       "      <td>-0.004024</td>\n",
       "      <td>-0.004332</td>\n",
       "      <td>-0.004024</td>\n",
       "      <td>0.847511</td>\n",
       "      <td>0.153605</td>\n",
       "      <td>1.000000</td>\n",
       "      <td>0.957599</td>\n",
       "      <td>0.847513</td>\n",
       "      <td>-0.004024</td>\n",
       "    </tr>\n",
       "    <tr>\n",
       "      <th>beta_n</th>\n",
       "      <td>-0.004022</td>\n",
       "      <td>-0.004189</td>\n",
       "      <td>-0.004022</td>\n",
       "      <td>0.958044</td>\n",
       "      <td>0.000871</td>\n",
       "      <td>0.957599</td>\n",
       "      <td>1.000000</td>\n",
       "      <td>0.958045</td>\n",
       "      <td>-0.004022</td>\n",
       "    </tr>\n",
       "    <tr>\n",
       "      <th>beta_d</th>\n",
       "      <td>-0.003938</td>\n",
       "      <td>-0.003866</td>\n",
       "      <td>-0.003938</td>\n",
       "      <td>0.999999</td>\n",
       "      <td>0.001490</td>\n",
       "      <td>0.847513</td>\n",
       "      <td>0.958045</td>\n",
       "      <td>1.000000</td>\n",
       "      <td>-0.003938</td>\n",
       "    </tr>\n",
       "    <tr>\n",
       "      <th>y_model</th>\n",
       "      <td>1.000000</td>\n",
       "      <td>0.919765</td>\n",
       "      <td>1.000000</td>\n",
       "      <td>-0.002775</td>\n",
       "      <td>-0.001574</td>\n",
       "      <td>-0.004024</td>\n",
       "      <td>-0.004022</td>\n",
       "      <td>-0.003938</td>\n",
       "      <td>1.000000</td>\n",
       "    </tr>\n",
       "  </tbody>\n",
       "</table>\n",
       "</div>"
      ],
      "text/plain": [
       "                     x  y_actual  y_prediccion       SSR       SSD       SST  \\\n",
       "x             1.000000  0.919765      1.000000 -0.002775 -0.001574 -0.004024   \n",
       "y_actual      0.919765  1.000000      0.919765 -0.002795 -0.002322 -0.004332   \n",
       "y_prediccion  1.000000  0.919765      1.000000 -0.002775 -0.001574 -0.004024   \n",
       "SSR          -0.002775 -0.002795     -0.002775  1.000000  0.001489  0.847511   \n",
       "SSD          -0.001574 -0.002322     -0.001574  0.001489  1.000000  0.153605   \n",
       "SST          -0.004024 -0.004332     -0.004024  0.847511  0.153605  1.000000   \n",
       "beta_n       -0.004022 -0.004189     -0.004022  0.958044  0.000871  0.957599   \n",
       "beta_d       -0.003938 -0.003866     -0.003938  0.999999  0.001490  0.847513   \n",
       "y_model       1.000000  0.919765      1.000000 -0.002775 -0.001574 -0.004024   \n",
       "\n",
       "                beta_n    beta_d   y_model  \n",
       "x            -0.004022 -0.003938  1.000000  \n",
       "y_actual     -0.004189 -0.003866  0.919765  \n",
       "y_prediccion -0.004022 -0.003938  1.000000  \n",
       "SSR           0.958044  0.999999 -0.002775  \n",
       "SSD           0.000871  0.001490 -0.001574  \n",
       "SST           0.957599  0.847513 -0.004024  \n",
       "beta_n        1.000000  0.958045 -0.004022  \n",
       "beta_d        0.958045  1.000000 -0.003938  \n",
       "y_model      -0.004022 -0.003938  1.000000  "
      ]
     },
     "execution_count": 707,
     "metadata": {},
     "output_type": "execute_result"
    }
   ],
   "source": [
    "data.corr()"
   ]
  },
  {
   "cell_type": "code",
   "execution_count": 662,
   "metadata": {},
   "outputs": [],
   "source": [
    "SSR = sum((data[\"y_model\"]-y_mean)**2)\n",
    "SSD = sum((data[\"y_model\"]-data[\"y_actual\"])**2)\n",
    "SST = sum((data[\"y_actual\"]-y_mean)**2)"
   ]
  },
  {
   "cell_type": "code",
   "execution_count": 663,
   "metadata": {},
   "outputs": [
    {
     "data": {
      "text/plain": [
       "(87835.10137540913, 16424.87503735127, 104259.97641276261)"
      ]
     },
     "execution_count": 663,
     "metadata": {},
     "output_type": "execute_result"
    }
   ],
   "source": [
    "SSR,SSD,SST"
   ]
  },
  {
   "cell_type": "code",
   "execution_count": 664,
   "metadata": {},
   "outputs": [
    {
     "data": {
      "text/plain": [
       "84.24623177322827"
      ]
     },
     "execution_count": 664,
     "metadata": {},
     "output_type": "execute_result"
    }
   ],
   "source": [
    "R2=(SSR/SST)*100\n",
    "R2"
   ]
  },
  {
   "cell_type": "code",
   "execution_count": 665,
   "metadata": {},
   "outputs": [
    {
     "data": {
      "text/plain": [
       "Text(0.5, 1.0, 'Valor Actual vs Predicción')"
      ]
     },
     "execution_count": 665,
     "metadata": {},
     "output_type": "execute_result"
    },
    {
     "data": {
      "image/png": "[encoded data removed]",
      "text/plain": [
       "<Figure size 432x288 with 1 Axes>"
      ]
     },
     "metadata": {
      "needs_background": "light"
     },
     "output_type": "display_data"
    }
   ],
   "source": [
    "y_mean = [np.mean(y_act) for i in range(1, len(x_list) + 1)]\n",
    "\n",
    "%matplotlib inline\n",
    "plt.plot(data[\"x\"],data[\"y_prediccion\"])\n",
    "plt.plot(data[\"x\"], data[\"y_actual\"], \"ro\")\n",
    "plt.plot(data[\"x\"],y_mean, \"g\")\n",
    "plt.plot(data[\"x\"], data[\"y_model\"])\n",
    "plt.title(\"Valor Actual vs Predicción\")"
   ]
  },
  {
   "cell_type": "code",
   "execution_count": null,
   "metadata": {},
   "outputs": [],
   "source": []
  },
  {
   "cell_type": "code",
   "execution_count": null,
   "metadata": {},
   "outputs": [],
   "source": []
  },
  {
   "cell_type": "code",
   "execution_count": null,
   "metadata": {},
   "outputs": [],
   "source": []
  },
  {
   "cell_type": "code",
   "execution_count": null,
   "metadata": {},
   "outputs": [],
   "source": []
  },
  {
   "cell_type": "code",
   "execution_count": null,
   "metadata": {},
   "outputs": [],
   "source": []
  },
  {
   "cell_type": "code",
   "execution_count": null,
   "metadata": {},
   "outputs": [],
   "source": []
  },
  {
   "cell_type": "code",
   "execution_count": null,
   "metadata": {},
   "outputs": [],
   "source": []
  },
  {
   "cell_type": "code",
   "execution_count": null,
   "metadata": {},
   "outputs": [],
   "source": []
  },
  {
   "cell_type": "code",
   "execution_count": null,
   "metadata": {},
   "outputs": [],
   "source": []
  },
  {
   "cell_type": "code",
   "execution_count": null,
   "metadata": {},
   "outputs": [],
   "source": []
  }
 ],
 "metadata": {
  "kernelspec": {
   "display_name": "Python 3",
   "language": "python",
   "name": "python3"
  },
  "language_info": {
   "codemirror_mode": {
    "name": "ipython",
    "version": 3
   },
   "file_extension": ".py",
   "mimetype": "text/x-python",
   "name": "python",
   "nbconvert_exporter": "python",
   "pygments_lexer": "ipython3",
   "version": "3.7.1"
  }
 },
 "nbformat": 4,
 "nbformat_minor": 2
}
